{
 "cells": [
  {
   "cell_type": "code",
   "execution_count": null,
   "metadata": {},
   "outputs": [],
   "source": [
    "type _Tup<N extends number, T = any, A extends T[] = []> =\n",
    "  A['length'] extends N\n",
    "    ? A\n",
    "    : _Tup<N, T, [...A, T]>\n",
    "\n",
    "export type Tup<N extends number, T = any> = _Tup<N, T>\n",
    "export type Inc<N extends number> = [..._Tup<N>, any]['length']\n",
    "export type Dec<N extends number, T extends number[] = []> = Tup<N> extends [any, ...infer U] ? U['length'] : never\n",
    "\n",
    "type _BoundedTup<N extends number, T = any, A extends T[] = []> =\n",
    "  N extends 0\n",
    "    ? []\n",
    "    : _BoundedTup<Dec<N>, T, [...A, T]> | [...A, T]\n",
    "\n",
    "export type BoundedTup<N extends number, T = any> = _BoundedTup<N, T>\n",
    "\n",
    "const x: BoundedTup<4> = [1, 2, 3, 4, 5]\n",
    "\n",
    "export function map<N extends number, T, U>(xs: Tup<N, T>, f: (x: T) => U): Tup<N, U> {\n",
    "  return (xs as T[]).map(f) as Tup<N, U>\n",
    "}\n"
   ]
  }
 ],
 "metadata": {
  "kernelspec": {
   "display_name": "Deno",
   "language": "typescript",
   "name": "deno"
  },
  "language_info": {
   "file_extension": ".ts",
   "mimetype": "text/x.typescript",
   "name": "typescript",
   "nb_converter": "script",
   "pygments_lexer": "typescript",
   "version": "5.3.3"
  }
 },
 "nbformat": 4,
 "nbformat_minor": 2
}
